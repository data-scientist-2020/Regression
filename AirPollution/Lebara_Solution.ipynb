{
 "cells": [
  {
   "cell_type": "code",
   "execution_count": 1,
   "metadata": {},
   "outputs": [],
   "source": [
    "#Import the libraries\n",
    "import numpy as np\n",
    "import pandas as pd\n",
    "import random"
   ]
  },
  {
   "cell_type": "code",
   "execution_count": 2,
   "metadata": {},
   "outputs": [],
   "source": [
    "#Read the data\n",
    "df1 = pd.read_csv('airfoil_self_noise.dat', sep='\\t', header=None,usecols=[0,2,3,4], names=['C1', 'C2', 'C3', 'C4'],\n",
    "                 skiprows=1303)"
   ]
  },
  {
   "cell_type": "code",
   "execution_count": 3,
   "metadata": {},
   "outputs": [
    {
     "data": {
      "text/html": [
       "<div>\n",
       "<style scoped>\n",
       "    .dataframe tbody tr th:only-of-type {\n",
       "        vertical-align: middle;\n",
       "    }\n",
       "\n",
       "    .dataframe tbody tr th {\n",
       "        vertical-align: top;\n",
       "    }\n",
       "\n",
       "    .dataframe thead th {\n",
       "        text-align: right;\n",
       "    }\n",
       "</style>\n",
       "<table border=\"1\" class=\"dataframe\">\n",
       "  <thead>\n",
       "    <tr style=\"text-align: right;\">\n",
       "      <th></th>\n",
       "      <th>C1</th>\n",
       "      <th>C2</th>\n",
       "      <th>C3</th>\n",
       "      <th>C4</th>\n",
       "    </tr>\n",
       "  </thead>\n",
       "  <tbody>\n",
       "    <tr>\n",
       "      <td>0</td>\n",
       "      <td>6300</td>\n",
       "      <td>0.1016</td>\n",
       "      <td>71.3</td>\n",
       "      <td>0.002028</td>\n",
       "    </tr>\n",
       "    <tr>\n",
       "      <td>1</td>\n",
       "      <td>8000</td>\n",
       "      <td>0.1016</td>\n",
       "      <td>71.3</td>\n",
       "      <td>0.002028</td>\n",
       "    </tr>\n",
       "    <tr>\n",
       "      <td>2</td>\n",
       "      <td>10000</td>\n",
       "      <td>0.1016</td>\n",
       "      <td>71.3</td>\n",
       "      <td>0.002028</td>\n",
       "    </tr>\n",
       "    <tr>\n",
       "      <td>3</td>\n",
       "      <td>630</td>\n",
       "      <td>0.1016</td>\n",
       "      <td>55.5</td>\n",
       "      <td>0.002211</td>\n",
       "    </tr>\n",
       "    <tr>\n",
       "      <td>4</td>\n",
       "      <td>800</td>\n",
       "      <td>0.1016</td>\n",
       "      <td>55.5</td>\n",
       "      <td>0.002211</td>\n",
       "    </tr>\n",
       "  </tbody>\n",
       "</table>\n",
       "</div>"
      ],
      "text/plain": [
       "      C1      C2    C3        C4\n",
       "0   6300  0.1016  71.3  0.002028\n",
       "1   8000  0.1016  71.3  0.002028\n",
       "2  10000  0.1016  71.3  0.002028\n",
       "3    630  0.1016  55.5  0.002211\n",
       "4    800  0.1016  55.5  0.002211"
      ]
     },
     "execution_count": 3,
     "metadata": {},
     "output_type": "execute_result"
    }
   ],
   "source": [
    "df1.head()"
   ]
  },
  {
   "cell_type": "code",
   "execution_count": 4,
   "metadata": {},
   "outputs": [
    {
     "data": {
      "text/plain": [
       "(200, 4)"
      ]
     },
     "execution_count": 4,
     "metadata": {},
     "output_type": "execute_result"
    }
   ],
   "source": [
    "df1.shape"
   ]
  },
  {
   "cell_type": "code",
   "execution_count": 5,
   "metadata": {},
   "outputs": [],
   "source": [
    "df1.to_csv('df1')"
   ]
  },
  {
   "cell_type": "code",
   "execution_count": 6,
   "metadata": {},
   "outputs": [],
   "source": [
    "#Making copy\n",
    "df2 = df1.copy()"
   ]
  },
  {
   "cell_type": "code",
   "execution_count": 7,
   "metadata": {},
   "outputs": [],
   "source": [
    "#Adding random value to the df2 in C1 and C2 column\n",
    "dfupdate = df2.sample(n = int(len(df2)/7))\n",
    "df2.C1 = random.randint(0,10)\n",
    "df2.C4 = random.randint(0,20)\n",
    "df2.update(dfupdate)"
   ]
  },
  {
   "cell_type": "code",
   "execution_count": 8,
   "metadata": {},
   "outputs": [
    {
     "data": {
      "text/html": [
       "<div>\n",
       "<style scoped>\n",
       "    .dataframe tbody tr th:only-of-type {\n",
       "        vertical-align: middle;\n",
       "    }\n",
       "\n",
       "    .dataframe tbody tr th {\n",
       "        vertical-align: top;\n",
       "    }\n",
       "\n",
       "    .dataframe thead th {\n",
       "        text-align: right;\n",
       "    }\n",
       "</style>\n",
       "<table border=\"1\" class=\"dataframe\">\n",
       "  <thead>\n",
       "    <tr style=\"text-align: right;\">\n",
       "      <th></th>\n",
       "      <th>C1</th>\n",
       "      <th>C2</th>\n",
       "      <th>C3</th>\n",
       "      <th>C4</th>\n",
       "    </tr>\n",
       "  </thead>\n",
       "  <tbody>\n",
       "    <tr>\n",
       "      <td>0</td>\n",
       "      <td>4.0</td>\n",
       "      <td>0.1016</td>\n",
       "      <td>71.3</td>\n",
       "      <td>6.0</td>\n",
       "    </tr>\n",
       "    <tr>\n",
       "      <td>1</td>\n",
       "      <td>4.0</td>\n",
       "      <td>0.1016</td>\n",
       "      <td>71.3</td>\n",
       "      <td>6.0</td>\n",
       "    </tr>\n",
       "    <tr>\n",
       "      <td>2</td>\n",
       "      <td>4.0</td>\n",
       "      <td>0.1016</td>\n",
       "      <td>71.3</td>\n",
       "      <td>6.0</td>\n",
       "    </tr>\n",
       "    <tr>\n",
       "      <td>3</td>\n",
       "      <td>4.0</td>\n",
       "      <td>0.1016</td>\n",
       "      <td>55.5</td>\n",
       "      <td>6.0</td>\n",
       "    </tr>\n",
       "    <tr>\n",
       "      <td>4</td>\n",
       "      <td>4.0</td>\n",
       "      <td>0.1016</td>\n",
       "      <td>55.5</td>\n",
       "      <td>6.0</td>\n",
       "    </tr>\n",
       "  </tbody>\n",
       "</table>\n",
       "</div>"
      ],
      "text/plain": [
       "    C1      C2    C3   C4\n",
       "0  4.0  0.1016  71.3  6.0\n",
       "1  4.0  0.1016  71.3  6.0\n",
       "2  4.0  0.1016  71.3  6.0\n",
       "3  4.0  0.1016  55.5  6.0\n",
       "4  4.0  0.1016  55.5  6.0"
      ]
     },
     "execution_count": 8,
     "metadata": {},
     "output_type": "execute_result"
    }
   ],
   "source": [
    "df2.head()"
   ]
  },
  {
   "cell_type": "code",
   "execution_count": 9,
   "metadata": {},
   "outputs": [
    {
     "data": {
      "text/plain": [
       "(200, 4)"
      ]
     },
     "execution_count": 9,
     "metadata": {},
     "output_type": "execute_result"
    }
   ],
   "source": [
    "df2.shape"
   ]
  },
  {
   "cell_type": "code",
   "execution_count": 10,
   "metadata": {},
   "outputs": [],
   "source": [
    "df2.to_csv('df2')"
   ]
  },
  {
   "cell_type": "code",
   "execution_count": 11,
   "metadata": {},
   "outputs": [],
   "source": [
    "flag_dict = {}\n",
    "num_dict = {}\n",
    "for col in df1.columns:\n",
    "    col_flag = []\n",
    "    value = []\n",
    "    for i in range(len(df1)):\n",
    "        a =np.where(df1.loc[i][col] == df2.loc[i][col], 'Pass', 'Fail')\n",
    "        b =np.where(df1.loc[i][col] == df2.loc[i][col], 0, (df1.loc[i][col], df2.loc[i][col]))\n",
    "        col_flag.append(a)\n",
    "        value.append(b)\n",
    "    flag_dict[col] = col_flag\n",
    "    num_dict[col] = value"
   ]
  },
  {
   "cell_type": "code",
   "execution_count": 12,
   "metadata": {},
   "outputs": [
    {
     "name": "stdout",
     "output_type": "stream",
     "text": [
      "C1\n",
      "C4\n"
     ]
    }
   ],
   "source": [
    "final_flag_dict = {}\n",
    "final_num_dict = {}\n",
    "for key in flag_dict.keys():\n",
    "    if('Fail' in flag_dict[key]):\n",
    "        print(key)\n",
    "        final_flag_dict[key] = flag_dict[key]\n",
    "        final_num_dict[key] = num_dict[key]"
   ]
  },
  {
   "cell_type": "code",
   "execution_count": 13,
   "metadata": {},
   "outputs": [],
   "source": [
    "resultant_dict = {}\n",
    "for key in final_flag_dict.keys():\n",
    "    resultant_dict[key+'_flag'] = final_flag_dict[key]\n",
    "for key in final_num_dict.keys():\n",
    "    resultant_dict[key+'_value'] = final_num_dict[key]"
   ]
  },
  {
   "cell_type": "code",
   "execution_count": 14,
   "metadata": {},
   "outputs": [],
   "source": [
    "result = pd.DataFrame(data=resultant_dict)"
   ]
  },
  {
   "cell_type": "code",
   "execution_count": 15,
   "metadata": {},
   "outputs": [
    {
     "data": {
      "text/html": [
       "<div>\n",
       "<style scoped>\n",
       "    .dataframe tbody tr th:only-of-type {\n",
       "        vertical-align: middle;\n",
       "    }\n",
       "\n",
       "    .dataframe tbody tr th {\n",
       "        vertical-align: top;\n",
       "    }\n",
       "\n",
       "    .dataframe thead th {\n",
       "        text-align: right;\n",
       "    }\n",
       "</style>\n",
       "<table border=\"1\" class=\"dataframe\">\n",
       "  <thead>\n",
       "    <tr style=\"text-align: right;\">\n",
       "      <th></th>\n",
       "      <th>C1_flag</th>\n",
       "      <th>C4_flag</th>\n",
       "      <th>C1_value</th>\n",
       "      <th>C4_value</th>\n",
       "    </tr>\n",
       "  </thead>\n",
       "  <tbody>\n",
       "    <tr>\n",
       "      <td>0</td>\n",
       "      <td>Fail</td>\n",
       "      <td>Fail</td>\n",
       "      <td>[6300.0, 4.0]</td>\n",
       "      <td>[0.00202822, 6.0]</td>\n",
       "    </tr>\n",
       "    <tr>\n",
       "      <td>1</td>\n",
       "      <td>Fail</td>\n",
       "      <td>Fail</td>\n",
       "      <td>[8000.0, 4.0]</td>\n",
       "      <td>[0.00202822, 6.0]</td>\n",
       "    </tr>\n",
       "    <tr>\n",
       "      <td>2</td>\n",
       "      <td>Fail</td>\n",
       "      <td>Fail</td>\n",
       "      <td>[10000.0, 4.0]</td>\n",
       "      <td>[0.00202822, 6.0]</td>\n",
       "    </tr>\n",
       "    <tr>\n",
       "      <td>3</td>\n",
       "      <td>Fail</td>\n",
       "      <td>Fail</td>\n",
       "      <td>[630.0, 4.0]</td>\n",
       "      <td>[0.002211, 6.0]</td>\n",
       "    </tr>\n",
       "    <tr>\n",
       "      <td>4</td>\n",
       "      <td>Fail</td>\n",
       "      <td>Fail</td>\n",
       "      <td>[800.0, 4.0]</td>\n",
       "      <td>[0.002211, 6.0]</td>\n",
       "    </tr>\n",
       "    <tr>\n",
       "      <td>5</td>\n",
       "      <td>Pass</td>\n",
       "      <td>Pass</td>\n",
       "      <td>[0.0, 0.0]</td>\n",
       "      <td>[0.0, 0.0]</td>\n",
       "    </tr>\n",
       "    <tr>\n",
       "      <td>6</td>\n",
       "      <td>Fail</td>\n",
       "      <td>Fail</td>\n",
       "      <td>[1250.0, 4.0]</td>\n",
       "      <td>[0.002211, 6.0]</td>\n",
       "    </tr>\n",
       "    <tr>\n",
       "      <td>7</td>\n",
       "      <td>Fail</td>\n",
       "      <td>Fail</td>\n",
       "      <td>[1600.0, 4.0]</td>\n",
       "      <td>[0.002211, 6.0]</td>\n",
       "    </tr>\n",
       "    <tr>\n",
       "      <td>8</td>\n",
       "      <td>Fail</td>\n",
       "      <td>Fail</td>\n",
       "      <td>[2000.0, 4.0]</td>\n",
       "      <td>[0.002211, 6.0]</td>\n",
       "    </tr>\n",
       "    <tr>\n",
       "      <td>9</td>\n",
       "      <td>Fail</td>\n",
       "      <td>Fail</td>\n",
       "      <td>[2500.0, 4.0]</td>\n",
       "      <td>[0.002211, 6.0]</td>\n",
       "    </tr>\n",
       "  </tbody>\n",
       "</table>\n",
       "</div>"
      ],
      "text/plain": [
       "  C1_flag C4_flag        C1_value           C4_value\n",
       "0    Fail    Fail   [6300.0, 4.0]  [0.00202822, 6.0]\n",
       "1    Fail    Fail   [8000.0, 4.0]  [0.00202822, 6.0]\n",
       "2    Fail    Fail  [10000.0, 4.0]  [0.00202822, 6.0]\n",
       "3    Fail    Fail    [630.0, 4.0]    [0.002211, 6.0]\n",
       "4    Fail    Fail    [800.0, 4.0]    [0.002211, 6.0]\n",
       "5    Pass    Pass      [0.0, 0.0]         [0.0, 0.0]\n",
       "6    Fail    Fail   [1250.0, 4.0]    [0.002211, 6.0]\n",
       "7    Fail    Fail   [1600.0, 4.0]    [0.002211, 6.0]\n",
       "8    Fail    Fail   [2000.0, 4.0]    [0.002211, 6.0]\n",
       "9    Fail    Fail   [2500.0, 4.0]    [0.002211, 6.0]"
      ]
     },
     "execution_count": 15,
     "metadata": {},
     "output_type": "execute_result"
    }
   ],
   "source": [
    "result.head(10)"
   ]
  },
  {
   "cell_type": "code",
   "execution_count": 17,
   "metadata": {},
   "outputs": [],
   "source": [
    "result.to_csv('result')"
   ]
  },
  {
   "cell_type": "markdown",
   "metadata": {},
   "source": [
    "From the above solution we have two columns having different values 'C1' and 'C4' and Column_Value in the result dataframe corresponds to the values of df1 and df2."
   ]
  },
  {
   "cell_type": "code",
   "execution_count": null,
   "metadata": {},
   "outputs": [],
   "source": []
  }
 ],
 "metadata": {
  "kernelspec": {
   "display_name": "Python 3",
   "language": "python",
   "name": "python3"
  },
  "language_info": {
   "codemirror_mode": {
    "name": "ipython",
    "version": 3
   },
   "file_extension": ".py",
   "mimetype": "text/x-python",
   "name": "python",
   "nbconvert_exporter": "python",
   "pygments_lexer": "ipython3",
   "version": "3.7.4"
  }
 },
 "nbformat": 4,
 "nbformat_minor": 2
}
